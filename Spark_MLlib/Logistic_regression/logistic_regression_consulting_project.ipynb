{
 "cells": [
  {
   "cell_type": "markdown",
   "metadata": {},
   "source": [
    "# Logistic Regression Consulting Project"
   ]
  },
  {
   "cell_type": "markdown",
   "metadata": {
    "collapsed": true
   },
   "source": [
    "## Binary Customer Churn\n",
    "\n",
    "A marketing agency has many customers that use their service to produce ads for the client/customer websites. They've noticed that they have quite a bit of churn in clients. They basically randomly assign account managers right now, but want you to create a machine learning model that will help predict which customers will churn (stop buying their service) so that they can correctly assign the customers most at risk to churn an account manager. Luckily they have some historical data, can you help them out? Create a classification algorithm that will help classify whether or not a customer churned. Then the company can test this against incoming data for future customers to predict which customers will churn and assign them an account manager.\n",
    "\n",
    "The data is saved as customer_churn.csv. Here are the fields and their definitions:\n",
    "\n",
    "    Name : Name of the latest contact at Company\n",
    "    Age: Customer Age\n",
    "    Total_Purchase: Total Ads Purchased\n",
    "    Account_Manager: Binary 0=No manager, 1= Account manager assigned\n",
    "    Years: Totaly Years as a customer\n",
    "    Num_sites: Number of websites that use the service.\n",
    "    Onboard_date: Date that the name of the latest contact was onboarded\n",
    "    Location: Client HQ Address\n",
    "    Company: Name of Client Company\n",
    "    \n",
    "Once you've created the model and evaluated it, test out the model on some new data (you can think of this almost like a hold-out set) that your client has provided, saved under new_customers.csv. The client wants to know which customers are most likely to churn given this data (they don't have the label yet)."
   ]
  },
  {
   "cell_type": "code",
   "execution_count": 1,
   "metadata": {},
   "outputs": [],
   "source": [
    "import findspark \n",
    "findspark.init('/home/gkouskosv/spark-2.4.5-bin-hadoop2.6/')"
   ]
  },
  {
   "cell_type": "code",
   "execution_count": 2,
   "metadata": {},
   "outputs": [],
   "source": [
    "from pyspark.sql import SparkSession\n",
    "\n",
    "spark = SparkSession.builder.appName('ConProj').getOrCreate()"
   ]
  },
  {
   "cell_type": "code",
   "execution_count": 3,
   "metadata": {},
   "outputs": [],
   "source": [
    "data = spark.read.csv('customer_churn.csv',header=True,inferSchema=True)"
   ]
  },
  {
   "cell_type": "code",
   "execution_count": 4,
   "metadata": {},
   "outputs": [
    {
     "name": "stdout",
     "output_type": "stream",
     "text": [
      "root\n",
      " |-- Names: string (nullable = true)\n",
      " |-- Age: double (nullable = true)\n",
      " |-- Total_Purchase: double (nullable = true)\n",
      " |-- Account_Manager: integer (nullable = true)\n",
      " |-- Years: double (nullable = true)\n",
      " |-- Num_Sites: double (nullable = true)\n",
      " |-- Onboard_date: timestamp (nullable = true)\n",
      " |-- Location: string (nullable = true)\n",
      " |-- Company: string (nullable = true)\n",
      " |-- Churn: integer (nullable = true)\n",
      "\n"
     ]
    }
   ],
   "source": [
    "data.printSchema()"
   ]
  },
  {
   "cell_type": "code",
   "execution_count": 5,
   "metadata": {},
   "outputs": [
    {
     "data": {
      "text/plain": [
       "873"
      ]
     },
     "execution_count": 5,
     "metadata": {},
     "output_type": "execute_result"
    }
   ],
   "source": [
    "data.select('Company').distinct().count()"
   ]
  },
  {
   "cell_type": "code",
   "execution_count": 6,
   "metadata": {},
   "outputs": [
    {
     "name": "stdout",
     "output_type": "stream",
     "text": [
      "+--------------+-----+\n",
      "|       Company|count|\n",
      "+--------------+-----+\n",
      "|Anderson Group|    4|\n",
      "|    Wilson PLC|    3|\n",
      "|  Williams PLC|    3|\n",
      "|Perry and Sons|    2|\n",
      "|     Gates Ltd|    2|\n",
      "|    Walker Ltd|    2|\n",
      "|   Davis Group|    2|\n",
      "|      Webb PLC|    2|\n",
      "|   Smith Group|    2|\n",
      "|Smith and Sons|    2|\n",
      "|     Evans LLC|    2|\n",
      "|     Smith Inc|    2|\n",
      "|  Williams LLC|    2|\n",
      "|      Rice PLC|    2|\n",
      "|      Soto PLC|    2|\n",
      "|    Nelson LLC|    2|\n",
      "|      King LLC|    2|\n",
      "|     Ortiz Ltd|    2|\n",
      "|     Jones LLC|    2|\n",
      "|Davis and Sons|    2|\n",
      "+--------------+-----+\n",
      "only showing top 20 rows\n",
      "\n"
     ]
    }
   ],
   "source": [
    "by_comp = data.groupBy('Company').count()\n",
    "by_comp.orderBy(by_comp['count'].desc()).show()"
   ]
  },
  {
   "cell_type": "markdown",
   "metadata": {},
   "source": [
    "As for the column 'Company', it is better to drop it than hold it. The amount of companies are 873, and each one are shown from 1 to 4 times."
   ]
  },
  {
   "cell_type": "code",
   "execution_count": 7,
   "metadata": {},
   "outputs": [
    {
     "name": "stdout",
     "output_type": "stream",
     "text": [
      "+---------+\n",
      "|Num_Sites|\n",
      "+---------+\n",
      "|      8.0|\n",
      "|      7.0|\n",
      "|      4.0|\n",
      "|     11.0|\n",
      "|     14.0|\n",
      "|      3.0|\n",
      "|     10.0|\n",
      "|     13.0|\n",
      "|      6.0|\n",
      "|      5.0|\n",
      "|      9.0|\n",
      "|     12.0|\n",
      "+---------+\n",
      "\n"
     ]
    }
   ],
   "source": [
    "data.select('Num_Sites').distinct().show()"
   ]
  },
  {
   "cell_type": "markdown",
   "metadata": {},
   "source": [
    "Let's find out if Location column is helpful enough to be in out logistic regression model. It is better to hold only the zipcode from the whole address."
   ]
  },
  {
   "cell_type": "code",
   "execution_count": 8,
   "metadata": {},
   "outputs": [
    {
     "data": {
      "text/plain": [
       "[Row(Location='10265 Elizabeth Mission Barkerburgh, AK 89518'),\n",
       " Row(Location='6157 Frank Gardens Suite 019 Carloshaven, RI 17756'),\n",
       " Row(Location='1331 Keith Court Alyssahaven, DE 90114'),\n",
       " Row(Location='13120 Daniel Mount Angelabury, WY 30645-4695'),\n",
       " Row(Location='765 Tricia Row Karenshire, MH 71730')]"
      ]
     },
     "execution_count": 8,
     "metadata": {},
     "output_type": "execute_result"
    }
   ],
   "source": [
    "data.select('Location').head(5)"
   ]
  },
  {
   "cell_type": "code",
   "execution_count": 9,
   "metadata": {},
   "outputs": [],
   "source": [
    "from pyspark.sql.functions import split, monotonically_increasing_id"
   ]
  },
  {
   "cell_type": "code",
   "execution_count": 10,
   "metadata": {},
   "outputs": [
    {
     "data": {
      "text/plain": [
       "['89518', '17756', '90114', '30645-4695', '71730']"
      ]
     },
     "execution_count": 10,
     "metadata": {},
     "output_type": "execute_result"
    }
   ],
   "source": [
    "zip_code = [word[0][-1] for word in data.select(split('Location', ' ')).collect()]\n",
    "zip_code[:5]"
   ]
  },
  {
   "cell_type": "code",
   "execution_count": 11,
   "metadata": {},
   "outputs": [],
   "source": [
    "def del_minus(lst):\n",
    "    without_minus = []\n",
    "    for code in lst:\n",
    "        if '-' in code:\n",
    "            without_minus.append(code.split('-')[0])\n",
    "        else:\n",
    "            without_minus.append(code)\n",
    "    return without_minus"
   ]
  },
  {
   "cell_type": "code",
   "execution_count": 12,
   "metadata": {},
   "outputs": [],
   "source": [
    "no_minus_zip = del_minus(zip_code)"
   ]
  },
  {
   "cell_type": "code",
   "execution_count": 13,
   "metadata": {},
   "outputs": [
    {
     "data": {
      "text/plain": [
       "['89518', '17756', '90114', '30645', '71730']"
      ]
     },
     "execution_count": 13,
     "metadata": {},
     "output_type": "execute_result"
    }
   ],
   "source": [
    "no_minus_zip[:5]"
   ]
  },
  {
   "cell_type": "code",
   "execution_count": 14,
   "metadata": {},
   "outputs": [
    {
     "data": {
      "text/plain": [
       "['89518', '17756', '90114', '30645-4695', '71730']"
      ]
     },
     "execution_count": 14,
     "metadata": {},
     "output_type": "execute_result"
    }
   ],
   "source": [
    "zip_code[:5]"
   ]
  },
  {
   "cell_type": "code",
   "execution_count": 15,
   "metadata": {},
   "outputs": [
    {
     "name": "stdout",
     "output_type": "stream",
     "text": [
      "+--------------------+---------------------+\n",
      "|            Location|split(Location,  )[0]|\n",
      "+--------------------+---------------------+\n",
      "|10265 Elizabeth M...|                10265|\n",
      "|6157 Frank Garden...|                 6157|\n",
      "|1331 Keith Court ...|                 1331|\n",
      "|13120 Daniel Moun...|                13120|\n",
      "|765 Tricia Row Ka...|                  765|\n",
      "|6187 Olson Mounta...|                 6187|\n",
      "|4846 Savannah Roa...|                 4846|\n",
      "|25271 Roy Express...|                25271|\n",
      "|3725 Caroline Str...|                 3725|\n",
      "|363 Sandra Lodge ...|                  363|\n",
      "|Unit 8120 Box 916...|                 Unit|\n",
      "|Unit 1895 Box 094...|                 Unit|\n",
      "|897 Kelley Overpa...|                  897|\n",
      "|11488 Weaver Cape...|                11488|\n",
      "|1774 Peter Row Ap...|                 1774|\n",
      "|45408 David Path ...|                45408|\n",
      "|28216 Wright Moun...|                28216|\n",
      "|Unit 4948 Box 481...|                 Unit|\n",
      "|69203 Crosby Divi...|                69203|\n",
      "|9569 Caldwell Cre...|                 9569|\n",
      "+--------------------+---------------------+\n",
      "only showing top 20 rows\n",
      "\n"
     ]
    }
   ],
   "source": [
    "data.select('Location', split('Location', ' ')[0]).show()"
   ]
  },
  {
   "cell_type": "code",
   "execution_count": 16,
   "metadata": {},
   "outputs": [],
   "source": [
    "no_minus_zip = spark.createDataFrame([(value,) for value in no_minus_zip], ['no_minus_zip'])"
   ]
  },
  {
   "cell_type": "code",
   "execution_count": 17,
   "metadata": {},
   "outputs": [
    {
     "data": {
      "text/plain": [
       "pyspark.sql.column.Column"
      ]
     },
     "execution_count": 17,
     "metadata": {},
     "output_type": "execute_result"
    }
   ],
   "source": [
    "type(no_minus_zip['no_minus_zip'])"
   ]
  },
  {
   "cell_type": "code",
   "execution_count": 18,
   "metadata": {},
   "outputs": [
    {
     "data": {
      "text/plain": [
       "'89518'"
      ]
     },
     "execution_count": 18,
     "metadata": {},
     "output_type": "execute_result"
    }
   ],
   "source": [
    "zip_code[0]"
   ]
  },
  {
   "cell_type": "code",
   "execution_count": 19,
   "metadata": {},
   "outputs": [
    {
     "data": {
      "text/plain": [
       "['89518',\n",
       " '17756',\n",
       " '90114',\n",
       " '30645-4695',\n",
       " '71730',\n",
       " '74359',\n",
       " '87713-3460',\n",
       " '59852-6150',\n",
       " '82059',\n",
       " '51655-7561']"
      ]
     },
     "execution_count": 19,
     "metadata": {},
     "output_type": "execute_result"
    }
   ],
   "source": [
    "zip_code[:10]"
   ]
  },
  {
   "cell_type": "code",
   "execution_count": 20,
   "metadata": {},
   "outputs": [],
   "source": [
    "zip_code = spark.createDataFrame([(value,) for value in zip_code], ['zip_code'])"
   ]
  },
  {
   "cell_type": "code",
   "execution_count": 21,
   "metadata": {},
   "outputs": [],
   "source": [
    "zip_code = zip_code.withColumn('id', monotonically_increasing_id())\n",
    "data = data.withColumn('id', monotonically_increasing_id())"
   ]
  },
  {
   "cell_type": "code",
   "execution_count": 22,
   "metadata": {},
   "outputs": [],
   "source": [
    "data = data.join(zip_code, on='id', how='inner').drop('id')"
   ]
  },
  {
   "cell_type": "code",
   "execution_count": 23,
   "metadata": {},
   "outputs": [
    {
     "name": "stdout",
     "output_type": "stream",
     "text": [
      "+----------+\n",
      "|  zip_code|\n",
      "+----------+\n",
      "|     89518|\n",
      "|     17756|\n",
      "|     90114|\n",
      "|30645-4695|\n",
      "|     71730|\n",
      "|     74359|\n",
      "|87713-3460|\n",
      "|59852-6150|\n",
      "|     82059|\n",
      "|51655-7561|\n",
      "|     43432|\n",
      "|     40249|\n",
      "|     44793|\n",
      "|63417-8544|\n",
      "|     18782|\n",
      "|54903-6698|\n",
      "|40999-2369|\n",
      "|     42669|\n",
      "|     87064|\n",
      "|     30637|\n",
      "+----------+\n",
      "only showing top 20 rows\n",
      "\n"
     ]
    }
   ],
   "source": [
    "data.select('zip_code').show()"
   ]
  },
  {
   "cell_type": "code",
   "execution_count": 24,
   "metadata": {},
   "outputs": [
    {
     "name": "stdout",
     "output_type": "stream",
     "text": [
      "+-----+\n",
      "|  zip|\n",
      "+-----+\n",
      "|89518|\n",
      "|17756|\n",
      "|90114|\n",
      "|30645|\n",
      "|71730|\n",
      "|74359|\n",
      "|87713|\n",
      "|59852|\n",
      "|82059|\n",
      "|51655|\n",
      "|43432|\n",
      "|40249|\n",
      "|44793|\n",
      "|63417|\n",
      "|18782|\n",
      "|54903|\n",
      "|40999|\n",
      "|42669|\n",
      "|87064|\n",
      "|30637|\n",
      "+-----+\n",
      "only showing top 20 rows\n",
      "\n"
     ]
    }
   ],
   "source": [
    "data.select(data['zip_code'].substr(1,5).alias('zip')).show()"
   ]
  },
  {
   "cell_type": "code",
   "execution_count": 25,
   "metadata": {},
   "outputs": [],
   "source": [
    "data = data.withColumn('zip', data['zip_code'].substr(1,5)).drop('zip_code')"
   ]
  },
  {
   "cell_type": "code",
   "execution_count": 34,
   "metadata": {},
   "outputs": [],
   "source": [
    "data = data.withColumn('zip', data['zip'].cast('int'))"
   ]
  },
  {
   "cell_type": "code",
   "execution_count": 35,
   "metadata": {},
   "outputs": [
    {
     "data": {
      "text/plain": [
       "{'Names': 'Cameron Williams',\n",
       " 'Age': 42.0,\n",
       " 'Total_Purchase': 11066.8,\n",
       " 'Account_Manager': 0,\n",
       " 'Years': 7.22,\n",
       " 'Num_Sites': 8.0,\n",
       " 'Onboard_date': datetime.datetime(2013, 8, 30, 7, 0, 40),\n",
       " 'Location': '10265 Elizabeth Mission Barkerburgh, AK 89518',\n",
       " 'Company': 'Harvey LLC',\n",
       " 'Churn': 1,\n",
       " 'zip': 89518}"
      ]
     },
     "execution_count": 35,
     "metadata": {},
     "output_type": "execute_result"
    }
   ],
   "source": [
    "data.head().asDict()"
   ]
  },
  {
   "cell_type": "code",
   "execution_count": 37,
   "metadata": {},
   "outputs": [
    {
     "data": {
      "text/plain": [
       "-0.0345000790268528"
      ]
     },
     "execution_count": 37,
     "metadata": {},
     "output_type": "execute_result"
    }
   ],
   "source": [
    "data.stat.corr('Years', 'Age')"
   ]
  },
  {
   "cell_type": "code",
   "execution_count": 36,
   "metadata": {},
   "outputs": [
    {
     "data": {
      "text/plain": [
       "-0.07777308812745408"
      ]
     },
     "execution_count": 36,
     "metadata": {},
     "output_type": "execute_result"
    }
   ],
   "source": [
    "data.stat.corr('Churn', 'zip')"
   ]
  },
  {
   "cell_type": "code",
   "execution_count": 61,
   "metadata": {},
   "outputs": [
    {
     "name": "stdout",
     "output_type": "stream",
     "text": [
      "+-------+------------------+\n",
      "|summary|               zip|\n",
      "+-------+------------------+\n",
      "|  count|               225|\n",
      "|   mean|52496.671111111114|\n",
      "| stddev|28652.217580412125|\n",
      "|    min|               175|\n",
      "|    max|             99755|\n",
      "+-------+------------------+\n",
      "\n"
     ]
    }
   ],
   "source": [
    "data.select('zip').describe().show()"
   ]
  },
  {
   "cell_type": "code",
   "execution_count": null,
   "metadata": {},
   "outputs": [],
   "source": []
  }
 ],
 "metadata": {
  "kernelspec": {
   "display_name": "Python 3",
   "language": "python",
   "name": "python3"
  },
  "language_info": {
   "codemirror_mode": {
    "name": "ipython",
    "version": 3
   },
   "file_extension": ".py",
   "mimetype": "text/x-python",
   "name": "python",
   "nbconvert_exporter": "python",
   "pygments_lexer": "ipython3",
   "version": "3.7.5"
  }
 },
 "nbformat": 4,
 "nbformat_minor": 4
}
