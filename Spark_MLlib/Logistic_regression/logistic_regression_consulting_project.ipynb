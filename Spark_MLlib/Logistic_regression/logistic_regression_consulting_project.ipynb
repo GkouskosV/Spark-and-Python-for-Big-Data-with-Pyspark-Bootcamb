{
 "cells": [
  {
   "cell_type": "markdown",
   "metadata": {},
   "source": [
    "# Logistic Regression Consulting Project"
   ]
  },
  {
   "cell_type": "markdown",
   "metadata": {
    "collapsed": true
   },
   "source": [
    "## Binary Customer Churn\n",
    "\n",
    "A marketing agency has many customers that use their service to produce ads for the client/customer websites. They've noticed that they have quite a bit of churn in clients. They basically randomly assign account managers right now, but want you to create a machine learning model that will help predict which customers will churn (stop buying their service) so that they can correctly assign the customers most at risk to churn an account manager. Luckily they have some historical data, can you help them out? Create a classification algorithm that will help classify whether or not a customer churned. Then the company can test this against incoming data for future customers to predict which customers will churn and assign them an account manager.\n",
    "\n",
    "The data is saved as customer_churn.csv. Here are the fields and their definitions:\n",
    "\n",
    "    Name : Name of the latest contact at Company\n",
    "    Age: Customer Age\n",
    "    Total_Purchase: Total Ads Purchased\n",
    "    Account_Manager: Binary 0=No manager, 1= Account manager assigned\n",
    "    Years: Totaly Years as a customer\n",
    "    Num_sites: Number of websites that use the service.\n",
    "    Onboard_date: Date that the name of the latest contact was onboarded\n",
    "    Location: Client HQ Address\n",
    "    Company: Name of Client Company\n",
    "    \n",
    "Once you've created the model and evaluated it, test out the model on some new data (you can think of this almost like a hold-out set) that your client has provided, saved under new_customers.csv. The client wants to know which customers are most likely to churn given this data (they don't have the label yet)."
   ]
  },
  {
   "cell_type": "code",
   "execution_count": 1,
   "metadata": {},
   "outputs": [],
   "source": [
    "import findspark \n",
    "findspark.init('/home/gkouskosv/spark-2.4.5-bin-hadoop2.6/')"
   ]
  },
  {
   "cell_type": "code",
   "execution_count": 2,
   "metadata": {},
   "outputs": [],
   "source": [
    "from pyspark.sql import SparkSession\n",
    "\n",
    "spark = SparkSession.builder.appName('ConProj').getOrCreate()"
   ]
  },
  {
   "cell_type": "code",
   "execution_count": 3,
   "metadata": {},
   "outputs": [],
   "source": [
    "data = spark.read.csv('customer_churn.csv',header=True,inferSchema=True)"
   ]
  },
  {
   "cell_type": "code",
   "execution_count": 4,
   "metadata": {},
   "outputs": [
    {
     "name": "stdout",
     "output_type": "stream",
     "text": [
      "root\n",
      " |-- Names: string (nullable = true)\n",
      " |-- Age: double (nullable = true)\n",
      " |-- Total_Purchase: double (nullable = true)\n",
      " |-- Account_Manager: integer (nullable = true)\n",
      " |-- Years: double (nullable = true)\n",
      " |-- Num_Sites: double (nullable = true)\n",
      " |-- Onboard_date: timestamp (nullable = true)\n",
      " |-- Location: string (nullable = true)\n",
      " |-- Company: string (nullable = true)\n",
      " |-- Churn: integer (nullable = true)\n",
      "\n"
     ]
    }
   ],
   "source": [
    "data.printSchema()"
   ]
  },
  {
   "cell_type": "code",
   "execution_count": 5,
   "metadata": {},
   "outputs": [
    {
     "name": "stdout",
     "output_type": "stream",
     "text": [
      "+-------+-------------------+\n",
      "|summary|              Churn|\n",
      "+-------+-------------------+\n",
      "|  count|                900|\n",
      "|   mean|0.16666666666666666|\n",
      "| stddev| 0.3728852122772358|\n",
      "|    min|                  0|\n",
      "|    max|                  1|\n",
      "+-------+-------------------+\n",
      "\n"
     ]
    }
   ],
   "source": [
    "data.select('Churn').describe().show()"
   ]
  },
  {
   "cell_type": "code",
   "execution_count": 6,
   "metadata": {},
   "outputs": [
    {
     "name": "stdout",
     "output_type": "stream",
     "text": [
      "+-------+--------------------+\n",
      "|summary|            Location|\n",
      "+-------+--------------------+\n",
      "|  count|                 900|\n",
      "|   mean|                null|\n",
      "| stddev|                null|\n",
      "|    min|00103 Jeffrey Cre...|\n",
      "|    max|Unit 9800 Box 287...|\n",
      "+-------+--------------------+\n",
      "\n"
     ]
    }
   ],
   "source": [
    "data.select('Location').describe().show()"
   ]
  },
  {
   "cell_type": "markdown",
   "metadata": {},
   "source": [
    "### Let's start with the company column"
   ]
  },
  {
   "cell_type": "code",
   "execution_count": 7,
   "metadata": {},
   "outputs": [
    {
     "data": {
      "text/plain": [
       "873"
      ]
     },
     "execution_count": 7,
     "metadata": {},
     "output_type": "execute_result"
    }
   ],
   "source": [
    "data.select('Company').distinct().count()"
   ]
  },
  {
   "cell_type": "code",
   "execution_count": 8,
   "metadata": {},
   "outputs": [
    {
     "name": "stdout",
     "output_type": "stream",
     "text": [
      "+--------------+-----+\n",
      "|       Company|count|\n",
      "+--------------+-----+\n",
      "|Anderson Group|    4|\n",
      "|    Wilson PLC|    3|\n",
      "|  Williams PLC|    3|\n",
      "|      Webb PLC|    2|\n",
      "|     Smith Inc|    2|\n",
      "|    Walker Ltd|    2|\n",
      "|     Ortiz Ltd|    2|\n",
      "|      Rice PLC|    2|\n",
      "|   Smith Group|    2|\n",
      "|Smith and Sons|    2|\n",
      "|      Soto PLC|    2|\n",
      "|Davis and Sons|    2|\n",
      "|     Smith Ltd|    2|\n",
      "|  Williams LLC|    2|\n",
      "|    Nelson LLC|    2|\n",
      "|      King LLC|    2|\n",
      "|     Evans LLC|    2|\n",
      "|   Davis Group|    2|\n",
      "|     Jones LLC|    2|\n",
      "|     Gates Ltd|    2|\n",
      "+--------------+-----+\n",
      "only showing top 20 rows\n",
      "\n"
     ]
    }
   ],
   "source": [
    "by_comp = data.groupBy('Company').count()\n",
    "by_comp.orderBy(by_comp['count'].desc()).show()"
   ]
  },
  {
   "cell_type": "markdown",
   "metadata": {},
   "source": [
    "As for the column 'Company', it is better to drop it than hold it. The amount of companies are 873, and each one are shown from 1 to 4 times."
   ]
  },
  {
   "cell_type": "code",
   "execution_count": 9,
   "metadata": {},
   "outputs": [
    {
     "name": "stdout",
     "output_type": "stream",
     "text": [
      "+---------+\n",
      "|Num_Sites|\n",
      "+---------+\n",
      "|      8.0|\n",
      "|      7.0|\n",
      "|      4.0|\n",
      "|     11.0|\n",
      "|     14.0|\n",
      "|      3.0|\n",
      "|     10.0|\n",
      "|     13.0|\n",
      "|      6.0|\n",
      "|      5.0|\n",
      "|      9.0|\n",
      "|     12.0|\n",
      "+---------+\n",
      "\n"
     ]
    }
   ],
   "source": [
    "data.select('Num_Sites').distinct().show()"
   ]
  },
  {
   "cell_type": "markdown",
   "metadata": {},
   "source": [
    "### Deal with the location\n",
    "\n",
    "Let's find out if Location column is helpful enough to be in out logistic regression model. It is better to hold only the zipcode from the whole address.\n",
    "\n",
    "Some zip codes consist of 10 chars. We will hold only the first 5 chars for every zip code. We will achieve that with 2 ways:\n",
    "1. With a custom function which splits the zip code at '-' and drop the last chars and\n",
    "2. With the build in function of pyspark, the substr, which takes 2 arguments: The starting point and the last. The remaining string is droped. \n",
    "\n",
    "Then, we will join the two tables by a generated id, with the monotonically_increasing_id function and drop the temporary column 'id'."
   ]
  },
  {
   "cell_type": "code",
   "execution_count": 10,
   "metadata": {},
   "outputs": [
    {
     "data": {
      "text/plain": [
       "[Row(Location='10265 Elizabeth Mission Barkerburgh, AK 89518'),\n",
       " Row(Location='6157 Frank Gardens Suite 019 Carloshaven, RI 17756'),\n",
       " Row(Location='1331 Keith Court Alyssahaven, DE 90114'),\n",
       " Row(Location='13120 Daniel Mount Angelabury, WY 30645-4695'),\n",
       " Row(Location='765 Tricia Row Karenshire, MH 71730'),\n",
       " Row(Location='6187 Olson Mountains East Vincentborough, PR 74359'),\n",
       " Row(Location='4846 Savannah Road West Justin, IA 87713-3460'),\n",
       " Row(Location='25271 Roy Expressway Suite 147 Brownport, FM 59852-6150'),\n",
       " Row(Location='3725 Caroline Stravenue South Christineview, MA 82059'),\n",
       " Row(Location='363 Sandra Lodge Suite 144 South Ann, WI 51655-7561'),\n",
       " Row(Location='Unit 8120 Box 9160 DPO AA 43432'),\n",
       " Row(Location='Unit 1895 Box 0949 DPO AA 40249'),\n",
       " Row(Location='897 Kelley Overpass Suite 349 West Rebekahport, AZ 44793'),\n",
       " Row(Location='11488 Weaver Cape Hernandezberg, WI 63417-8544'),\n",
       " Row(Location='1774 Peter Row Apt. 712 New Autumn, MT 18782')]"
      ]
     },
     "execution_count": 10,
     "metadata": {},
     "output_type": "execute_result"
    }
   ],
   "source": [
    "data.select('Location').head(15)"
   ]
  },
  {
   "cell_type": "code",
   "execution_count": 11,
   "metadata": {},
   "outputs": [],
   "source": [
    "from pyspark.sql.window import Window as W\n",
    "from pyspark.sql.functions import (split, monotonically_increasing_id, \n",
    "                                   isnull, max, row_number, dayofyear, month, year)"
   ]
  },
  {
   "cell_type": "code",
   "execution_count": 12,
   "metadata": {},
   "outputs": [
    {
     "data": {
      "text/plain": [
       "['89518', '17756', '90114', '30645-4695', '71730']"
      ]
     },
     "execution_count": 12,
     "metadata": {},
     "output_type": "execute_result"
    }
   ],
   "source": [
    "zip_code = [word[0][-1] for word in data.select(split('Location', ' ')).collect()]\n",
    "zip_code[:5]"
   ]
  },
  {
   "cell_type": "code",
   "execution_count": 13,
   "metadata": {},
   "outputs": [],
   "source": [
    "def del_minus(lst):\n",
    "    without_minus = []\n",
    "    for code in lst:\n",
    "        if '-' in code:\n",
    "            without_minus.append(code.split('-')[0])\n",
    "        else:\n",
    "            without_minus.append(code)\n",
    "    return without_minus"
   ]
  },
  {
   "cell_type": "code",
   "execution_count": 14,
   "metadata": {},
   "outputs": [],
   "source": [
    "no_minus_zip = del_minus(zip_code)"
   ]
  },
  {
   "cell_type": "code",
   "execution_count": 15,
   "metadata": {},
   "outputs": [
    {
     "data": {
      "text/plain": [
       "['89518', '17756', '90114', '30645', '71730']"
      ]
     },
     "execution_count": 15,
     "metadata": {},
     "output_type": "execute_result"
    }
   ],
   "source": [
    "no_minus_zip[:5]"
   ]
  },
  {
   "cell_type": "code",
   "execution_count": 16,
   "metadata": {},
   "outputs": [
    {
     "data": {
      "text/plain": [
       "['89518', '17756', '90114', '30645-4695', '71730']"
      ]
     },
     "execution_count": 16,
     "metadata": {},
     "output_type": "execute_result"
    }
   ],
   "source": [
    "zip_code[:5]"
   ]
  },
  {
   "cell_type": "code",
   "execution_count": 17,
   "metadata": {},
   "outputs": [
    {
     "name": "stdout",
     "output_type": "stream",
     "text": [
      "+--------------------+---------------------+\n",
      "|            Location|split(Location, ,)[1]|\n",
      "+--------------------+---------------------+\n",
      "|10265 Elizabeth M...|             AK 89518|\n",
      "|6157 Frank Garden...|             RI 17756|\n",
      "|1331 Keith Court ...|             DE 90114|\n",
      "|13120 Daniel Moun...|        WY 30645-4695|\n",
      "|765 Tricia Row Ka...|             MH 71730|\n",
      "|6187 Olson Mounta...|             PR 74359|\n",
      "|4846 Savannah Roa...|        IA 87713-3460|\n",
      "|25271 Roy Express...|        FM 59852-6150|\n",
      "|3725 Caroline Str...|             MA 82059|\n",
      "|363 Sandra Lodge ...|        WI 51655-7561|\n",
      "|Unit 8120 Box 916...|                 null|\n",
      "|Unit 1895 Box 094...|                 null|\n",
      "|897 Kelley Overpa...|             AZ 44793|\n",
      "|11488 Weaver Cape...|        WI 63417-8544|\n",
      "|1774 Peter Row Ap...|             MT 18782|\n",
      "|45408 David Path ...|        HI 54903-6698|\n",
      "|28216 Wright Moun...|        DE 40999-2369|\n",
      "|Unit 4948 Box 481...|                 null|\n",
      "|69203 Crosby Divi...|             CO 87064|\n",
      "|9569 Caldwell Cre...|             RI 30637|\n",
      "+--------------------+---------------------+\n",
      "only showing top 20 rows\n",
      "\n"
     ]
    }
   ],
   "source": [
    "data.select('Location', split('Location', ',')[1]).show()"
   ]
  },
  {
   "cell_type": "code",
   "execution_count": 18,
   "metadata": {},
   "outputs": [],
   "source": [
    "no_minus_zip = spark.createDataFrame([(value,) for value in no_minus_zip], ['no_minus_zip'])"
   ]
  },
  {
   "cell_type": "code",
   "execution_count": 19,
   "metadata": {},
   "outputs": [
    {
     "data": {
      "text/plain": [
       "pyspark.sql.column.Column"
      ]
     },
     "execution_count": 19,
     "metadata": {},
     "output_type": "execute_result"
    }
   ],
   "source": [
    "type(no_minus_zip['no_minus_zip'])"
   ]
  },
  {
   "cell_type": "code",
   "execution_count": 20,
   "metadata": {},
   "outputs": [
    {
     "data": {
      "text/plain": [
       "'89518'"
      ]
     },
     "execution_count": 20,
     "metadata": {},
     "output_type": "execute_result"
    }
   ],
   "source": [
    "zip_code[0]"
   ]
  },
  {
   "cell_type": "code",
   "execution_count": 21,
   "metadata": {},
   "outputs": [
    {
     "data": {
      "text/plain": [
       "['89518',\n",
       " '17756',\n",
       " '90114',\n",
       " '30645-4695',\n",
       " '71730',\n",
       " '74359',\n",
       " '87713-3460',\n",
       " '59852-6150',\n",
       " '82059',\n",
       " '51655-7561']"
      ]
     },
     "execution_count": 21,
     "metadata": {},
     "output_type": "execute_result"
    }
   ],
   "source": [
    "zip_code[:10]"
   ]
  },
  {
   "cell_type": "code",
   "execution_count": 22,
   "metadata": {},
   "outputs": [],
   "source": [
    "zip_code = spark.createDataFrame([(value,) for value in zip_code], ['zip_code'])"
   ]
  },
  {
   "cell_type": "code",
   "execution_count": 23,
   "metadata": {},
   "outputs": [],
   "source": [
    "zip_code = zip_code.withColumn('zip', zip_code['zip_code'].substr(1,5)).drop('zip_code')"
   ]
  },
  {
   "cell_type": "code",
   "execution_count": 24,
   "metadata": {},
   "outputs": [],
   "source": [
    "zip_code = zip_code.withColumn('zip', zip_code['zip'].cast('int'))"
   ]
  },
  {
   "cell_type": "code",
   "execution_count": 25,
   "metadata": {},
   "outputs": [
    {
     "data": {
      "text/plain": [
       "[Row(zip=89518),\n",
       " Row(zip=17756),\n",
       " Row(zip=90114),\n",
       " Row(zip=30645),\n",
       " Row(zip=71730),\n",
       " Row(zip=74359),\n",
       " Row(zip=87713),\n",
       " Row(zip=59852),\n",
       " Row(zip=82059),\n",
       " Row(zip=51655)]"
      ]
     },
     "execution_count": 25,
     "metadata": {},
     "output_type": "execute_result"
    }
   ],
   "source": [
    "zip_code.head(10)"
   ]
  },
  {
   "cell_type": "code",
   "execution_count": 26,
   "metadata": {},
   "outputs": [
    {
     "name": "stdout",
     "output_type": "stream",
     "text": [
      "+-------+------------------+\n",
      "|summary|               zip|\n",
      "+-------+------------------+\n",
      "|  count|               900|\n",
      "|   mean|50041.432222222225|\n",
      "| stddev|28480.741571480805|\n",
      "|    min|               175|\n",
      "|    max|             99942|\n",
      "+-------+------------------+\n",
      "\n"
     ]
    }
   ],
   "source": [
    "zip_code.describe().show()"
   ]
  },
  {
   "cell_type": "code",
   "execution_count": 27,
   "metadata": {},
   "outputs": [
    {
     "name": "stdout",
     "output_type": "stream",
     "text": [
      "+-------+-------------------+\n",
      "|summary|              Churn|\n",
      "+-------+-------------------+\n",
      "|  count|                900|\n",
      "|   mean|0.16666666666666666|\n",
      "| stddev| 0.3728852122772358|\n",
      "|    min|                  0|\n",
      "|    max|                  1|\n",
      "+-------+-------------------+\n",
      "\n"
     ]
    }
   ],
   "source": [
    "data.select('Churn').describe().show()"
   ]
  },
  {
   "cell_type": "code",
   "execution_count": 28,
   "metadata": {},
   "outputs": [],
   "source": [
    "zip_code = zip_code.withColumn('idx', monotonically_increasing_id())\n",
    "data = data.withColumn('idx', monotonically_increasing_id())"
   ]
  },
  {
   "cell_type": "code",
   "execution_count": 29,
   "metadata": {},
   "outputs": [
    {
     "name": "stdout",
     "output_type": "stream",
     "text": [
      "+-----------+\n",
      "|   max(idx)|\n",
      "+-----------+\n",
      "|25769804000|\n",
      "+-----------+\n",
      "\n"
     ]
    }
   ],
   "source": [
    "zip_code.select(max('idx')).show()"
   ]
  },
  {
   "cell_type": "code",
   "execution_count": 30,
   "metadata": {},
   "outputs": [],
   "source": [
    "windowSpec = W.orderBy('idx')"
   ]
  },
  {
   "cell_type": "code",
   "execution_count": 31,
   "metadata": {},
   "outputs": [],
   "source": [
    "zip_code = zip_code.withColumn('idx', row_number().over(windowSpec))\n",
    "data = data.withColumn('idx', row_number().over(windowSpec))"
   ]
  },
  {
   "cell_type": "code",
   "execution_count": 32,
   "metadata": {},
   "outputs": [],
   "source": [
    "data = data.join(zip_code, on='idx', how='inner').drop('idx')"
   ]
  },
  {
   "cell_type": "code",
   "execution_count": 33,
   "metadata": {},
   "outputs": [
    {
     "data": {
      "text/plain": [
       "{'Names': 'Cameron Williams',\n",
       " 'Age': 42.0,\n",
       " 'Total_Purchase': 11066.8,\n",
       " 'Account_Manager': 0,\n",
       " 'Years': 7.22,\n",
       " 'Num_Sites': 8.0,\n",
       " 'Onboard_date': datetime.datetime(2013, 8, 30, 7, 0, 40),\n",
       " 'Location': '10265 Elizabeth Mission Barkerburgh, AK 89518',\n",
       " 'Company': 'Harvey LLC',\n",
       " 'Churn': 1,\n",
       " 'zip': 89518}"
      ]
     },
     "execution_count": 33,
     "metadata": {},
     "output_type": "execute_result"
    }
   ],
   "source": [
    "data.head().asDict()"
   ]
  },
  {
   "cell_type": "code",
   "execution_count": 34,
   "metadata": {},
   "outputs": [
    {
     "data": {
      "text/plain": [
       "0.08592553706723392"
      ]
     },
     "execution_count": 34,
     "metadata": {},
     "output_type": "execute_result"
    }
   ],
   "source": [
    "data.stat.corr('Churn', 'Age')"
   ]
  },
  {
   "cell_type": "code",
   "execution_count": 35,
   "metadata": {},
   "outputs": [
    {
     "data": {
      "text/plain": [
       "0.013873604684394627"
      ]
     },
     "execution_count": 35,
     "metadata": {},
     "output_type": "execute_result"
    }
   ],
   "source": [
    "data.stat.corr('Churn', 'zip')"
   ]
  },
  {
   "cell_type": "markdown",
   "metadata": {},
   "source": [
    "### Let's deal with the on board date column"
   ]
  },
  {
   "cell_type": "code",
   "execution_count": 36,
   "metadata": {},
   "outputs": [
    {
     "name": "stdout",
     "output_type": "stream",
     "text": [
      "+-------------------+\n",
      "|       Onboard_date|\n",
      "+-------------------+\n",
      "|2013-08-30 07:00:40|\n",
      "|2013-08-13 00:38:46|\n",
      "|2016-06-29 06:20:07|\n",
      "|2014-04-22 12:43:12|\n",
      "|2016-01-19 15:31:15|\n",
      "|2009-03-03 23:13:37|\n",
      "|2016-12-05 03:35:43|\n",
      "|2006-03-09 14:50:20|\n",
      "|2011-09-29 05:47:23|\n",
      "|2006-03-28 15:42:45|\n",
      "|2016-11-13 13:13:01|\n",
      "|2015-05-28 12:14:03|\n",
      "|2011-02-16 08:10:47|\n",
      "|2012-11-22 05:35:03|\n",
      "|2015-03-28 02:13:44|\n",
      "|2015-07-22 08:38:40|\n",
      "|2006-09-03 06:13:55|\n",
      "|2006-10-22 04:42:38|\n",
      "|2015-10-07 00:27:10|\n",
      "|2014-11-06 23:47:14|\n",
      "+-------------------+\n",
      "only showing top 20 rows\n",
      "\n"
     ]
    }
   ],
   "source": [
    "data.select('Onboard_date').show()"
   ]
  },
  {
   "cell_type": "code",
   "execution_count": 37,
   "metadata": {},
   "outputs": [
    {
     "name": "stdout",
     "output_type": "stream",
     "text": [
      "+---+\n",
      "|day|\n",
      "+---+\n",
      "|242|\n",
      "|225|\n",
      "|181|\n",
      "|112|\n",
      "| 19|\n",
      "| 62|\n",
      "|340|\n",
      "| 68|\n",
      "|272|\n",
      "| 87|\n",
      "|318|\n",
      "|148|\n",
      "| 47|\n",
      "|327|\n",
      "| 87|\n",
      "|203|\n",
      "|246|\n",
      "|295|\n",
      "|280|\n",
      "|310|\n",
      "+---+\n",
      "only showing top 20 rows\n",
      "\n"
     ]
    }
   ],
   "source": [
    "data.select(dayofyear(data['Onboard_date']).alias('day')).show()"
   ]
  },
  {
   "cell_type": "code",
   "execution_count": 38,
   "metadata": {},
   "outputs": [],
   "source": [
    "data = data.withColumn('Onboard_year', year(data['Onboard_date']))"
   ]
  },
  {
   "cell_type": "code",
   "execution_count": 39,
   "metadata": {},
   "outputs": [],
   "source": [
    "data = data.withColumn('Onboard_day_year', dayofyear(data['Onboard_date']))"
   ]
  },
  {
   "cell_type": "code",
   "execution_count": 40,
   "metadata": {},
   "outputs": [
    {
     "name": "stdout",
     "output_type": "stream",
     "text": [
      "+------------+-----+\n",
      "|onboard_year|count|\n",
      "+------------+-----+\n",
      "|        2006|  102|\n",
      "|        2007|   90|\n",
      "|        2008|   76|\n",
      "|        2009|   84|\n",
      "|        2010|   84|\n",
      "|        2011|   72|\n",
      "|        2012|   67|\n",
      "|        2013|   80|\n",
      "|        2014|  103|\n",
      "|        2015|   75|\n",
      "|        2016|   67|\n",
      "+------------+-----+\n",
      "\n"
     ]
    }
   ],
   "source": [
    "data.groupBy('onboard_year').count().orderBy('onboard_year').show()"
   ]
  },
  {
   "cell_type": "code",
   "execution_count": 41,
   "metadata": {},
   "outputs": [
    {
     "data": {
      "text/plain": [
       "-0.04014983006649418"
      ]
     },
     "execution_count": 41,
     "metadata": {},
     "output_type": "execute_result"
    }
   ],
   "source": [
    "data.stat.corr('Churn', 'Onboard_year')"
   ]
  },
  {
   "cell_type": "code",
   "execution_count": 42,
   "metadata": {},
   "outputs": [
    {
     "data": {
      "text/plain": [
       "0.022058101776751854"
      ]
     },
     "execution_count": 42,
     "metadata": {},
     "output_type": "execute_result"
    }
   ],
   "source": [
    "data.stat.corr('Churn', 'Onboard_day_year')"
   ]
  },
  {
   "cell_type": "markdown",
   "metadata": {},
   "source": [
    "### Create the Logistic Reg Model"
   ]
  },
  {
   "cell_type": "code",
   "execution_count": 43,
   "metadata": {},
   "outputs": [
    {
     "name": "stdout",
     "output_type": "stream",
     "text": [
      "root\n",
      " |-- Names: string (nullable = true)\n",
      " |-- Age: double (nullable = true)\n",
      " |-- Total_Purchase: double (nullable = true)\n",
      " |-- Account_Manager: integer (nullable = true)\n",
      " |-- Years: double (nullable = true)\n",
      " |-- Num_Sites: double (nullable = true)\n",
      " |-- Onboard_date: timestamp (nullable = true)\n",
      " |-- Location: string (nullable = true)\n",
      " |-- Company: string (nullable = true)\n",
      " |-- Churn: integer (nullable = true)\n",
      " |-- zip: integer (nullable = true)\n",
      " |-- Onboard_year: integer (nullable = true)\n",
      " |-- Onboard_day_year: integer (nullable = true)\n",
      "\n"
     ]
    }
   ],
   "source": [
    "data.printSchema()"
   ]
  },
  {
   "cell_type": "code",
   "execution_count": 45,
   "metadata": {},
   "outputs": [
    {
     "data": {
      "text/plain": [
       "['Names',\n",
       " 'Age',\n",
       " 'Total_Purchase',\n",
       " 'Account_Manager',\n",
       " 'Years',\n",
       " 'Num_Sites',\n",
       " 'Onboard_date',\n",
       " 'Location',\n",
       " 'Company',\n",
       " 'Churn',\n",
       " 'zip',\n",
       " 'Onboard_year',\n",
       " 'Onboard_day_year']"
      ]
     },
     "execution_count": 45,
     "metadata": {},
     "output_type": "execute_result"
    }
   ],
   "source": [
    "data.columns"
   ]
  },
  {
   "cell_type": "code",
   "execution_count": 129,
   "metadata": {},
   "outputs": [],
   "source": [
    "my_cols = data.select(['Age',\n",
    "                       'Total_Purchase',\n",
    "                       'Years',\n",
    "                       'Num_Sites',\n",
    "                       'Churn'])"
   ]
  },
  {
   "cell_type": "code",
   "execution_count": 111,
   "metadata": {},
   "outputs": [],
   "source": [
    "from pyspark.ml.feature import (VectorAssembler, VectorIndexer)\n",
    "from pyspark.ml.classification import LogisticRegression\n",
    "from pyspark.ml import Pipeline"
   ]
  },
  {
   "cell_type": "code",
   "execution_count": 130,
   "metadata": {},
   "outputs": [],
   "source": [
    "assembler = VectorAssembler(inputCols=['Age',\n",
    "                       'Total_Purchase',\n",
    "                       'Years',\n",
    "                       'Num_Sites',],\n",
    "                           outputCol='features')"
   ]
  },
  {
   "cell_type": "code",
   "execution_count": 131,
   "metadata": {},
   "outputs": [],
   "source": [
    "log_reg = LogisticRegression(featuresCol='features', labelCol='Churn')"
   ]
  },
  {
   "cell_type": "code",
   "execution_count": 132,
   "metadata": {},
   "outputs": [],
   "source": [
    "pipeline = Pipeline(stages=[assembler, log_reg])"
   ]
  },
  {
   "cell_type": "code",
   "execution_count": 133,
   "metadata": {},
   "outputs": [],
   "source": [
    "train_data, test_data = my_cols.randomSplit([0.7,0.3])"
   ]
  },
  {
   "cell_type": "code",
   "execution_count": 141,
   "metadata": {},
   "outputs": [],
   "source": [
    "fit_model = pipeline.fit(train_data)"
   ]
  },
  {
   "cell_type": "code",
   "execution_count": 142,
   "metadata": {},
   "outputs": [],
   "source": [
    "results = fit_model.transform(test_data)"
   ]
  },
  {
   "cell_type": "code",
   "execution_count": 136,
   "metadata": {},
   "outputs": [],
   "source": [
    "from pyspark.ml.evaluation import BinaryClassificationEvaluator"
   ]
  },
  {
   "cell_type": "code",
   "execution_count": 143,
   "metadata": {},
   "outputs": [],
   "source": [
    "my_eval = BinaryClassificationEvaluator(rawPredictionCol='prediction',\n",
    "                                       labelCol='Churn')"
   ]
  },
  {
   "cell_type": "code",
   "execution_count": 144,
   "metadata": {},
   "outputs": [
    {
     "name": "stdout",
     "output_type": "stream",
     "text": [
      "+-----+----------+\n",
      "|Churn|prediction|\n",
      "+-----+----------+\n",
      "|    0|       0.0|\n",
      "|    0|       0.0|\n",
      "|    0|       0.0|\n",
      "|    0|       0.0|\n",
      "|    1|       0.0|\n",
      "|    0|       0.0|\n",
      "|    0|       0.0|\n",
      "|    1|       0.0|\n",
      "|    0|       0.0|\n",
      "|    0|       0.0|\n",
      "|    0|       0.0|\n",
      "|    1|       0.0|\n",
      "|    0|       0.0|\n",
      "|    0|       0.0|\n",
      "|    0|       0.0|\n",
      "|    0|       0.0|\n",
      "|    0|       0.0|\n",
      "|    0|       0.0|\n",
      "|    0|       0.0|\n",
      "|    0|       0.0|\n",
      "+-----+----------+\n",
      "only showing top 20 rows\n",
      "\n"
     ]
    }
   ],
   "source": [
    "results.select('Churn', 'prediction').show()"
   ]
  },
  {
   "cell_type": "code",
   "execution_count": 145,
   "metadata": {},
   "outputs": [],
   "source": [
    "AUC = my_eval.evaluate(results)"
   ]
  },
  {
   "cell_type": "code",
   "execution_count": 146,
   "metadata": {},
   "outputs": [
    {
     "data": {
      "text/plain": [
       "0.7507488232777065"
      ]
     },
     "execution_count": 146,
     "metadata": {},
     "output_type": "execute_result"
    }
   ],
   "source": [
    "AUC"
   ]
  },
  {
   "cell_type": "code",
   "execution_count": 147,
   "metadata": {},
   "outputs": [
    {
     "name": "stdout",
     "output_type": "stream",
     "text": [
      "+-------+------------------+-------------------+\n",
      "|summary|             Churn|         prediction|\n",
      "+-------+------------------+-------------------+\n",
      "|  count|               269|                269|\n",
      "|   mean|0.1524163568773234|0.11152416356877323|\n",
      "| stddev|0.3600939417646919| 0.3153668504246747|\n",
      "|    min|                 0|                0.0|\n",
      "|    max|                 1|                1.0|\n",
      "+-------+------------------+-------------------+\n",
      "\n"
     ]
    }
   ],
   "source": [
    "results.select('Churn', 'prediction').describe().show()"
   ]
  },
  {
   "cell_type": "code",
   "execution_count": 149,
   "metadata": {},
   "outputs": [
    {
     "data": {
      "text/plain": [
       "[Row(Age=28.0, Total_Purchase=9090.43, Years=5.74, Num_Sites=10.0, Churn=0, features=DenseVector([28.0, 9090.43, 5.74, 10.0]), rawPrediction=DenseVector([1.6659, -1.6659]), probability=DenseVector([0.841, 0.159]), prediction=0.0),\n",
       " Row(Age=29.0, Total_Purchase=5900.78, Years=5.56, Num_Sites=8.0, Churn=0, features=DenseVector([29.0, 5900.78, 5.56, 8.0]), rawPrediction=DenseVector([4.4606, -4.4606]), probability=DenseVector([0.9886, 0.0114]), prediction=0.0),\n",
       " Row(Age=29.0, Total_Purchase=12711.15, Years=5.74, Num_Sites=7.0, Churn=0, features=DenseVector([29.0, 12711.15, 5.74, 7.0]), rawPrediction=DenseVector([5.0024, -5.0024]), probability=DenseVector([0.9933, 0.0067]), prediction=0.0),\n",
       " Row(Age=29.0, Total_Purchase=13255.05, Years=4.89, Num_Sites=8.0, Churn=0, features=DenseVector([29.0, 13255.05, 4.89, 8.0]), rawPrediction=DenseVector([4.1945, -4.1945]), probability=DenseVector([0.9851, 0.0149]), prediction=0.0),\n",
       " Row(Age=30.0, Total_Purchase=7960.64, Years=2.72, Num_Sites=10.0, Churn=1, features=DenseVector([30.0, 7960.64, 2.72, 10.0]), rawPrediction=DenseVector([3.3422, -3.3422]), probability=DenseVector([0.9658, 0.0342]), prediction=0.0)]"
      ]
     },
     "execution_count": 149,
     "metadata": {},
     "output_type": "execute_result"
    }
   ],
   "source": [
    "results.head(5)"
   ]
  },
  {
   "cell_type": "code",
   "execution_count": 150,
   "metadata": {},
   "outputs": [
    {
     "name": "stdout",
     "output_type": "stream",
     "text": [
      "+----------+-----+\n",
      "|prediction|count|\n",
      "+----------+-----+\n",
      "|       0.0|  239|\n",
      "|       1.0|   30|\n",
      "+----------+-----+\n",
      "\n"
     ]
    }
   ],
   "source": [
    "results.groupBy('prediction').count().show()"
   ]
  },
  {
   "cell_type": "code",
   "execution_count": 151,
   "metadata": {},
   "outputs": [
    {
     "name": "stdout",
     "output_type": "stream",
     "text": [
      "+-----+-----+\n",
      "|Churn|count|\n",
      "+-----+-----+\n",
      "|    0|  228|\n",
      "|    1|   41|\n",
      "+-----+-----+\n",
      "\n"
     ]
    }
   ],
   "source": [
    "results.groupBy('Churn').count().show()"
   ]
  },
  {
   "cell_type": "markdown",
   "metadata": {},
   "source": [
    "### Test the model with the new data"
   ]
  },
  {
   "cell_type": "code",
   "execution_count": 152,
   "metadata": {},
   "outputs": [],
   "source": [
    "new_data = spark.read.csv('new_customers.csv', inferSchema=True, header=True)"
   ]
  },
  {
   "cell_type": "code",
   "execution_count": 153,
   "metadata": {},
   "outputs": [
    {
     "name": "stdout",
     "output_type": "stream",
     "text": [
      "+--------------+----+--------------+---------------+-----+---------+-------------------+--------------------+----------------+\n",
      "|         Names| Age|Total_Purchase|Account_Manager|Years|Num_Sites|       Onboard_date|            Location|         Company|\n",
      "+--------------+----+--------------+---------------+-----+---------+-------------------+--------------------+----------------+\n",
      "| Andrew Mccall|37.0|       9935.53|              1| 7.71|      8.0|2011-08-29 18:37:54|38612 Johnny Stra...|        King Ltd|\n",
      "|Michele Wright|23.0|       7526.94|              1| 9.28|     15.0|2013-07-22 18:19:54|21083 Nicole Junc...|   Cannon-Benson|\n",
      "|  Jeremy Chang|65.0|         100.0|              1|  1.0|     15.0|2006-12-11 07:48:13|085 Austin Views ...|Barron-Robertson|\n",
      "|Megan Ferguson|32.0|        6487.5|              0|  9.4|     14.0|2016-10-28 05:32:13|922 Wright Branch...|   Sexton-Golden|\n",
      "|  Taylor Young|32.0|      13147.71|              1| 10.0|      8.0|2012-03-20 00:36:46|Unit 0789 Box 073...|        Wood LLC|\n",
      "| Jessica Drake|22.0|       8445.26|              1| 3.46|     14.0|2011-02-04 19:29:27|1148 Tina Straven...|   Parks-Robbins|\n",
      "+--------------+----+--------------+---------------+-----+---------+-------------------+--------------------+----------------+\n",
      "\n"
     ]
    }
   ],
   "source": [
    "new_data.show()"
   ]
  },
  {
   "cell_type": "code",
   "execution_count": 154,
   "metadata": {},
   "outputs": [],
   "source": [
    "results2 = fit_model.transform(new_data)"
   ]
  },
  {
   "cell_type": "code",
   "execution_count": 157,
   "metadata": {},
   "outputs": [
    {
     "name": "stdout",
     "output_type": "stream",
     "text": [
      "+----------+\n",
      "|prediction|\n",
      "+----------+\n",
      "|       0.0|\n",
      "|       1.0|\n",
      "|       1.0|\n",
      "|       1.0|\n",
      "|       0.0|\n",
      "|       1.0|\n",
      "+----------+\n",
      "\n"
     ]
    }
   ],
   "source": [
    "results2.select('prediction').show()"
   ]
  },
  {
   "cell_type": "code",
   "execution_count": null,
   "metadata": {},
   "outputs": [],
   "source": []
  }
 ],
 "metadata": {
  "kernelspec": {
   "display_name": "Python 3",
   "language": "python",
   "name": "python3"
  },
  "language_info": {
   "codemirror_mode": {
    "name": "ipython",
    "version": 3
   },
   "file_extension": ".py",
   "mimetype": "text/x-python",
   "name": "python",
   "nbconvert_exporter": "python",
   "pygments_lexer": "ipython3",
   "version": "3.7.5"
  }
 },
 "nbformat": 4,
 "nbformat_minor": 4
}
